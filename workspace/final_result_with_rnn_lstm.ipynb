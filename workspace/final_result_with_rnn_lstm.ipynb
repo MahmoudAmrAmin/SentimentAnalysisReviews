{
 "cells": [
  {
   "cell_type": "code",
   "execution_count": 1,
   "id": "46d912a0",
   "metadata": {},
   "outputs": [],
   "source": [
    "import pandas as pd\n",
    "import numpy as np\n",
    "import matplotlib.pyplot as plt\n",
    "import seaborn as sns\n",
    "from sklearn.model_selection import train_test_split\n",
    "from sklearn.feature_extraction.text import TfidfVectorizer\n",
    "from sklearn.linear_model import LogisticRegression\n",
    "from sklearn.svm import SVC\n",
    "from sklearn.ensemble import RandomForestClassifier\n",
    "from sklearn.metrics import accuracy_score, precision_recall_fscore_support, confusion_matrix\n",
    "from transformers import pipeline\n",
    "import nltk\n",
    "from nltk.sentiment.vader import SentimentIntensityAnalyzer\n",
    "import warnings\n",
    "from tensorflow.keras.models import Sequential\n",
    "from tensorflow.keras.layers import Embedding, SimpleRNN, LSTM, Dense, Dropout\n",
    "from tensorflow.keras.preprocessing.text import Tokenizer\n",
    "from tensorflow.keras.preprocessing.sequence import pad_sequences\n",
    "from sklearn.preprocessing import LabelEncoder\n",
    "import pickle\n",
    "import pandas as pd\n",
    "import numpy as np\n",
    "from transformers import pipeline, AutoTokenizer\n",
    "from sklearn.metrics import accuracy_score, precision_recall_fscore_support\n",
    "import re\n",
    "\n",
    "# Suppress warnings\n",
    "warnings.filterwarnings('ignore')\n",
    "\n",
    "# Set plot style\n",
    "plt.style.use('ggplot')"
   ]
  },
  {
   "cell_type": "code",
   "execution_count": 2,
   "id": "1b87cdcb",
   "metadata": {},
   "outputs": [
    {
     "name": "stdout",
     "output_type": "stream",
     "text": [
      "Dataset shape: (1000, 10)\n"
     ]
    }
   ],
   "source": [
    "df = pd.read_csv('../dataset/Reviews.csv')\n",
    "df = df.head(1000)  # Limit to first 1000 reviews\n",
    "print(f\"Dataset shape: {df.shape}\")"
   ]
  },
  {
   "cell_type": "code",
   "execution_count": 3,
   "id": "e89e17fe",
   "metadata": {},
   "outputs": [
    {
     "data": {
      "text/html": [
       "<div>\n",
       "<style scoped>\n",
       "    .dataframe tbody tr th:only-of-type {\n",
       "        vertical-align: middle;\n",
       "    }\n",
       "\n",
       "    .dataframe tbody tr th {\n",
       "        vertical-align: top;\n",
       "    }\n",
       "\n",
       "    .dataframe thead th {\n",
       "        text-align: right;\n",
       "    }\n",
       "</style>\n",
       "<table border=\"1\" class=\"dataframe\">\n",
       "  <thead>\n",
       "    <tr style=\"text-align: right;\">\n",
       "      <th></th>\n",
       "      <th>Id</th>\n",
       "      <th>ProductId</th>\n",
       "      <th>UserId</th>\n",
       "      <th>ProfileName</th>\n",
       "      <th>HelpfulnessNumerator</th>\n",
       "      <th>HelpfulnessDenominator</th>\n",
       "      <th>Score</th>\n",
       "      <th>Time</th>\n",
       "      <th>Summary</th>\n",
       "      <th>Text</th>\n",
       "    </tr>\n",
       "  </thead>\n",
       "  <tbody>\n",
       "    <tr>\n",
       "      <th>0</th>\n",
       "      <td>1</td>\n",
       "      <td>B001E4KFG0</td>\n",
       "      <td>A3SGXH7AUHU8GW</td>\n",
       "      <td>delmartian</td>\n",
       "      <td>1</td>\n",
       "      <td>1</td>\n",
       "      <td>5</td>\n",
       "      <td>1303862400</td>\n",
       "      <td>Good Quality Dog Food</td>\n",
       "      <td>I have bought several of the Vitality canned d...</td>\n",
       "    </tr>\n",
       "    <tr>\n",
       "      <th>1</th>\n",
       "      <td>2</td>\n",
       "      <td>B00813GRG4</td>\n",
       "      <td>A1D87F6ZCVE5NK</td>\n",
       "      <td>dll pa</td>\n",
       "      <td>0</td>\n",
       "      <td>0</td>\n",
       "      <td>1</td>\n",
       "      <td>1346976000</td>\n",
       "      <td>Not as Advertised</td>\n",
       "      <td>Product arrived labeled as Jumbo Salted Peanut...</td>\n",
       "    </tr>\n",
       "    <tr>\n",
       "      <th>2</th>\n",
       "      <td>3</td>\n",
       "      <td>B000LQOCH0</td>\n",
       "      <td>ABXLMWJIXXAIN</td>\n",
       "      <td>Natalia Corres \"Natalia Corres\"</td>\n",
       "      <td>1</td>\n",
       "      <td>1</td>\n",
       "      <td>4</td>\n",
       "      <td>1219017600</td>\n",
       "      <td>\"Delight\" says it all</td>\n",
       "      <td>This is a confection that has been around a fe...</td>\n",
       "    </tr>\n",
       "    <tr>\n",
       "      <th>3</th>\n",
       "      <td>4</td>\n",
       "      <td>B000UA0QIQ</td>\n",
       "      <td>A395BORC6FGVXV</td>\n",
       "      <td>Karl</td>\n",
       "      <td>3</td>\n",
       "      <td>3</td>\n",
       "      <td>2</td>\n",
       "      <td>1307923200</td>\n",
       "      <td>Cough Medicine</td>\n",
       "      <td>If you are looking for the secret ingredient i...</td>\n",
       "    </tr>\n",
       "    <tr>\n",
       "      <th>4</th>\n",
       "      <td>5</td>\n",
       "      <td>B006K2ZZ7K</td>\n",
       "      <td>A1UQRSCLF8GW1T</td>\n",
       "      <td>Michael D. Bigham \"M. Wassir\"</td>\n",
       "      <td>0</td>\n",
       "      <td>0</td>\n",
       "      <td>5</td>\n",
       "      <td>1350777600</td>\n",
       "      <td>Great taffy</td>\n",
       "      <td>Great taffy at a great price.  There was a wid...</td>\n",
       "    </tr>\n",
       "  </tbody>\n",
       "</table>\n",
       "</div>"
      ],
      "text/plain": [
       "   Id   ProductId          UserId                      ProfileName  \\\n",
       "0   1  B001E4KFG0  A3SGXH7AUHU8GW                       delmartian   \n",
       "1   2  B00813GRG4  A1D87F6ZCVE5NK                           dll pa   \n",
       "2   3  B000LQOCH0   ABXLMWJIXXAIN  Natalia Corres \"Natalia Corres\"   \n",
       "3   4  B000UA0QIQ  A395BORC6FGVXV                             Karl   \n",
       "4   5  B006K2ZZ7K  A1UQRSCLF8GW1T    Michael D. Bigham \"M. Wassir\"   \n",
       "\n",
       "   HelpfulnessNumerator  HelpfulnessDenominator  Score        Time  \\\n",
       "0                     1                       1      5  1303862400   \n",
       "1                     0                       0      1  1346976000   \n",
       "2                     1                       1      4  1219017600   \n",
       "3                     3                       3      2  1307923200   \n",
       "4                     0                       0      5  1350777600   \n",
       "\n",
       "                 Summary                                               Text  \n",
       "0  Good Quality Dog Food  I have bought several of the Vitality canned d...  \n",
       "1      Not as Advertised  Product arrived labeled as Jumbo Salted Peanut...  \n",
       "2  \"Delight\" says it all  This is a confection that has been around a fe...  \n",
       "3         Cough Medicine  If you are looking for the secret ingredient i...  \n",
       "4            Great taffy  Great taffy at a great price.  There was a wid...  "
      ]
     },
     "execution_count": 3,
     "metadata": {},
     "output_type": "execute_result"
    }
   ],
   "source": [
    "df.head()"
   ]
  },
  {
   "cell_type": "code",
   "execution_count": 4,
   "id": "d4389300",
   "metadata": {},
   "outputs": [
    {
     "name": "stdout",
     "output_type": "stream",
     "text": [
      "<class 'pandas.core.frame.DataFrame'>\n",
      "RangeIndex: 1000 entries, 0 to 999\n",
      "Data columns (total 10 columns):\n",
      " #   Column                  Non-Null Count  Dtype \n",
      "---  ------                  --------------  ----- \n",
      " 0   Id                      1000 non-null   int64 \n",
      " 1   ProductId               1000 non-null   object\n",
      " 2   UserId                  1000 non-null   object\n",
      " 3   ProfileName             1000 non-null   object\n",
      " 4   HelpfulnessNumerator    1000 non-null   int64 \n",
      " 5   HelpfulnessDenominator  1000 non-null   int64 \n",
      " 6   Score                   1000 non-null   int64 \n",
      " 7   Time                    1000 non-null   int64 \n",
      " 8   Summary                 1000 non-null   object\n",
      " 9   Text                    1000 non-null   object\n",
      "dtypes: int64(5), object(5)\n",
      "memory usage: 78.2+ KB\n"
     ]
    }
   ],
   "source": [
    "df.info()"
   ]
  },
  {
   "cell_type": "code",
   "execution_count": 5,
   "id": "190ff0c1",
   "metadata": {},
   "outputs": [],
   "source": [
    "# Convert scores to sentiment labels\n",
    "def score_to_sentiment(score):\n",
    "    if score >= 4:\n",
    "        return 'Positive'\n",
    "    elif score == 3:\n",
    "        return 'Neutral'\n",
    "    else:\n",
    "        return 'Negative'\n",
    "\n",
    "df['Sentiment'] = df['Score'].apply(score_to_sentiment)"
   ]
  },
  {
   "cell_type": "code",
   "execution_count": 6,
   "id": "e93e4bba",
   "metadata": {},
   "outputs": [],
   "source": [
    "# Prepare data for traditional ML models\n",
    "X = df['Text']\n",
    "y = df['Sentiment']\n",
    "X_train, X_test, y_train, y_test = train_test_split(X, y, test_size=0.2, random_state=42)"
   ]
  },
  {
   "cell_type": "code",
   "execution_count": 7,
   "id": "417756ab",
   "metadata": {},
   "outputs": [],
   "source": [
    "\n",
    "# TF-IDF Vectorization\n",
    "tfidf = TfidfVectorizer(max_features=5000, stop_words='english')\n",
    "X_train_tfidf = tfidf.fit_transform(X_train)\n",
    "X_test_tfidf = tfidf.transform(X_test)"
   ]
  },
  {
   "cell_type": "code",
   "execution_count": 8,
   "id": "d7eed4d2",
   "metadata": {},
   "outputs": [],
   "source": [
    "# Initialize traditional ML models\n",
    "models = {\n",
    "    'Logistic Regression': LogisticRegression(max_iter=1000),\n",
    "    'SVM': SVC(C=0.5),\n",
    "    'Random Forest': RandomForestClassifier(n_estimators=100,max_depth=10)\n",
    "}"
   ]
  },
  {
   "cell_type": "code",
   "execution_count": 9,
   "id": "new_ml_models",
   "metadata": {},
   "outputs": [
    {
     "name": "stdout",
     "output_type": "stream",
     "text": [
      "Logistic Regression Cross-Validation Accuracy: 0.7700 ± 0.0025\n",
      "SVM Cross-Validation Accuracy: 0.7700 ± 0.0025\n",
      "Random Forest Cross-Validation Accuracy: 0.7700 ± 0.0025\n",
      "\n",
      "Logistic Regression Results:\n",
      "Accuracy: 0.8200\n",
      "Precision: 0.6724\n",
      "Recall: 0.8200\n",
      "F1 Score: 0.7389\n",
      "\n",
      "SVM Results:\n",
      "Accuracy: 0.8200\n",
      "Precision: 0.6724\n",
      "Recall: 0.8200\n",
      "F1 Score: 0.7389\n",
      "\n",
      "Random Forest Results:\n",
      "Accuracy: 0.8200\n",
      "Precision: 0.6724\n",
      "Recall: 0.8200\n",
      "F1 Score: 0.7389\n"
     ]
    }
   ],
   "source": [
    "\n",
    "from sklearn.model_selection import cross_val_score\n",
    "\n",
    "\n",
    "# Store results\n",
    "ml_results = {} \n",
    "for name, model in models.items():\n",
    "    # Cross-validation to handle overfitting\n",
    "    cv_scores = cross_val_score(model, X_train_tfidf, y_train, cv=5, scoring='accuracy')  # 5-fold Cross-validation\n",
    "    print(f\"{name} Cross-Validation Accuracy: {cv_scores.mean():.4f} ± {cv_scores.std():.4f}\")# بيقيم النموذج عبر خمس اشياء من افضل من ان هو شايفهم مجموعه واحده\n",
    "# Store results\n",
    "\n",
    "\n",
    "# Train and evaluate traditional ML models\n",
    "for name, model in models.items():\n",
    "    model.fit(X_train_tfidf, y_train)\n",
    "    predictions = model.predict(X_test_tfidf)\n",
    "    \n",
    "    accuracy = accuracy_score(y_test, predictions)\n",
    "    precision, recall, f1, _ = precision_recall_fscore_support(y_test, predictions, average='weighted')\n",
    "    \n",
    "    ml_results[name] = {\n",
    "        'predictions': predictions,\n",
    "        'accuracy': accuracy,\n",
    "        'precision': precision,\n",
    "        'recall': recall,\n",
    "        'f1': f1\n",
    "    }\n",
    "    print(f\"\\n{name} Results:\")\n",
    "    print(f\"Accuracy: {accuracy:.4f}\")\n",
    "    print(f\"Precision: {precision:.4f}\")\n",
    "    print(f\"Recall: {recall:.4f}\")\n",
    "    print(f\"F1 Score: {f1:.4f}\")"
   ]
  },
  {
   "cell_type": "code",
   "execution_count": 10,
   "id": "34ccfabb",
   "metadata": {},
   "outputs": [
    {
     "name": "stdout",
     "output_type": "stream",
     "text": [
      "\n",
      "Logistic Regression - Training vs Testing:\n",
      "Train Accuracy: 0.7950 | Test Accuracy: 0.8200\n",
      "Train F1 Score: 0.7226 | Test F1 Score: 0.7389\n",
      "\n",
      "SVM - Training vs Testing:\n",
      "Train Accuracy: 0.7700 | Test Accuracy: 0.8200\n",
      "Train F1 Score: 0.6699 | Test F1 Score: 0.7389\n",
      "\n",
      "Random Forest - Training vs Testing:\n",
      "Train Accuracy: 0.7712 | Test Accuracy: 0.8200\n",
      "Train F1 Score: 0.6729 | Test F1 Score: 0.7389\n"
     ]
    }
   ],
   "source": [
    "from sklearn.metrics import accuracy_score, precision_recall_fscore_support\n",
    "\n",
    "ml_results = {}\n",
    "\n",
    "for name, model in models.items():\n",
    "    model.fit(X_train_tfidf, y_train)\n",
    "\n",
    "\n",
    "    train_preds = model.predict(X_train_tfidf)\n",
    "    train_accuracy = accuracy_score(y_train, train_preds)\n",
    "    train_precision, train_recall, trainf1,_ = precision_recall_fscore_support(y_train, train_preds, average='weighted')\n",
    "\n",
    "\n",
    "    test_preds = model.predict(X_test_tfidf)\n",
    "    test_accuracy = accuracy_score(y_test, test_preds)\n",
    "    test_precision, test_recall, testf1,_  = precision_recall_fscore_support(y_test, test_preds, average='weighted')\n",
    " \n",
    "    ml_results[name] = {\n",
    "        'train_metrics': {\n",
    "            'accuracy': train_accuracy,\n",
    "            'precision': train_precision,\n",
    "            'recall': train_recall,\n",
    "            'f1': trainf1\n",
    "        },\n",
    "        'test_metrics': {\n",
    "            'accuracy': test_accuracy,\n",
    "            'precision': test_precision,\n",
    "            'recall': test_recall,\n",
    "            'f1': testf1,\n",
    "            'predictions': test_preds\n",
    "        }\n",
    "    }\n",
    "\n",
    "    print(f\"\\n{name} - Training vs Testing:\")\n",
    "    print(f\"Train Accuracy: {train_accuracy:.4f} | Test Accuracy: {test_accuracy:.4f}\")\n",
    "    print(f\"Train F1 Score: {trainf1:.4f} | Test F1 Score: {testf1:.4f}\")"
   ]
  },
  {
   "cell_type": "code",
   "execution_count": 11,
   "id": "8be4959b",
   "metadata": {},
   "outputs": [],
   "source": [
    "# Prepare data for RNN and LSTM\n",
    "max_words = 5000 \n",
    "max_len = 100\n",
    "\n",
    "tokenizer = Tokenizer(num_words=max_words)\n",
    "tokenizer.fit_on_texts(X)\n",
    "X_seq = tokenizer.texts_to_sequences(X)\n",
    "X_pad = pad_sequences(X_seq, maxlen=max_len)"
   ]
  },
  {
   "cell_type": "code",
   "execution_count": 12,
   "id": "ed4bf8f5",
   "metadata": {},
   "outputs": [],
   "source": [
    "# Encode labels\n",
    "le = LabelEncoder()\n",
    "y_encoded = le.fit_transform(y)\n",
    "X_train_pad, X_test_pad, y_train_enc, y_test_enc = train_test_split(X_pad, y_encoded, test_size=0.2, random_state=42)"
   ]
  },
  {
   "cell_type": "code",
   "execution_count": 13,
   "id": "e3a0548a",
   "metadata": {},
   "outputs": [],
   "source": [
    "\n",
    "# RNN Model\n",
    "rnn_model = Sequential([\n",
    "    Embedding(max_words, 100, input_length=max_len),\n",
    "    SimpleRNN(64, return_sequences=False),\n",
    "    Dropout(0.5),\n",
    "    Dense(32, activation='relu'),\n",
    "    Dense(3, activation='softmax')\n",
    "])"
   ]
  },
  {
   "cell_type": "code",
   "execution_count": 14,
   "id": "cf7d4cbb",
   "metadata": {},
   "outputs": [],
   "source": [
    "rnn_model.compile(optimizer='adam', loss='sparse_categorical_crossentropy', metrics=['accuracy'])"
   ]
  },
  {
   "cell_type": "code",
   "execution_count": 15,
   "id": "ca7099ab",
   "metadata": {},
   "outputs": [
    {
     "name": "stdout",
     "output_type": "stream",
     "text": [
      "Epoch 1/5\n",
      "\u001b[1m20/20\u001b[0m \u001b[32m━━━━━━━━━━━━━━━━━━━━\u001b[0m\u001b[37m\u001b[0m \u001b[1m2s\u001b[0m 32ms/step - accuracy: 0.1709 - loss: 1.2042 - val_accuracy: 0.8000 - val_loss: 0.8322\n",
      "Epoch 2/5\n",
      "\u001b[1m20/20\u001b[0m \u001b[32m━━━━━━━━━━━━━━━━━━━━\u001b[0m\u001b[37m\u001b[0m \u001b[1m0s\u001b[0m 20ms/step - accuracy: 0.7210 - loss: 0.8161 - val_accuracy: 0.8000 - val_loss: 0.6600\n",
      "Epoch 3/5\n",
      "\u001b[1m20/20\u001b[0m \u001b[32m━━━━━━━━━━━━━━━━━━━━\u001b[0m\u001b[37m\u001b[0m \u001b[1m0s\u001b[0m 20ms/step - accuracy: 0.7725 - loss: 0.6740 - val_accuracy: 0.8000 - val_loss: 0.6881\n",
      "Epoch 4/5\n",
      "\u001b[1m20/20\u001b[0m \u001b[32m━━━━━━━━━━━━━━━━━━━━\u001b[0m\u001b[37m\u001b[0m \u001b[1m0s\u001b[0m 22ms/step - accuracy: 0.7782 - loss: 0.5804 - val_accuracy: 0.7937 - val_loss: 0.6893\n",
      "Epoch 5/5\n",
      "\u001b[1m20/20\u001b[0m \u001b[32m━━━━━━━━━━━━━━━━━━━━\u001b[0m\u001b[37m\u001b[0m \u001b[1m0s\u001b[0m 20ms/step - accuracy: 0.8708 - loss: 0.4017 - val_accuracy: 0.7250 - val_loss: 0.7506\n"
     ]
    }
   ],
   "source": [
    "# Train RNN\n",
    "rnn_history = rnn_model.fit(X_train_pad, y_train_enc, epochs=5, batch_size=32, validation_split=0.2, verbose=1)"
   ]
  },
  {
   "cell_type": "code",
   "execution_count": 16,
   "id": "cad077ae",
   "metadata": {},
   "outputs": [
    {
     "name": "stdout",
     "output_type": "stream",
     "text": [
      "\u001b[1m7/7\u001b[0m \u001b[32m━━━━━━━━━━━━━━━━━━━━\u001b[0m\u001b[37m\u001b[0m \u001b[1m0s\u001b[0m 29ms/step\n"
     ]
    }
   ],
   "source": [
    "\n",
    "\n",
    "# Evaluate RNN\n",
    "rnn_pred = np.argmax(rnn_model.predict(X_test_pad), axis=1)\n",
    "rnn_accuracy = accuracy_score(y_test_enc, rnn_pred)\n",
    "rnn_precision, rnn_recall, rnn_f1, _ = precision_recall_fscore_support(y_test_enc, rnn_pred, average='weighted')"
   ]
  },
  {
   "cell_type": "code",
   "execution_count": 17,
   "id": "2402ec0a",
   "metadata": {},
   "outputs": [
    {
     "name": "stdout",
     "output_type": "stream",
     "text": [
      "\n",
      "RNN Results:\n",
      "Accuracy: 0.7600\n",
      "Precision: 0.6948\n",
      "Recall: 0.7600\n",
      "F1 Score: 0.7253\n"
     ]
    }
   ],
   "source": [
    "ml_results['RNN'] = {\n",
    "    'predictions': le.inverse_transform(rnn_pred),\n",
    "    'accuracy': rnn_accuracy,\n",
    "    'precision': rnn_precision,\n",
    "    'recall': rnn_recall,\n",
    "    'f1': rnn_f1\n",
    "}\n",
    "\n",
    "print(\"\\nRNN Results:\")\n",
    "print(f\"Accuracy: {rnn_accuracy:.4f}\")\n",
    "print(f\"Precision: {rnn_precision:.4f}\")\n",
    "print(f\"Recall: {rnn_recall:.4f}\")\n",
    "print(f\"F1 Score: {rnn_f1:.4f}\")\n"
   ]
  },
  {
   "cell_type": "code",
   "execution_count": 18,
   "id": "ae97161f",
   "metadata": {},
   "outputs": [],
   "source": [
    "\n",
    "# LSTM Model\n",
    "lstm_model = Sequential([\n",
    "    Embedding(max_words, 100, input_length=max_len),\n",
    "    LSTM(64, return_sequences=False),\n",
    "    Dropout(0.5),\n",
    "    Dense(32, activation='relu'),\n",
    "    Dense(3, activation='softmax')\n",
    "])"
   ]
  },
  {
   "cell_type": "code",
   "execution_count": 19,
   "id": "29c6697d",
   "metadata": {},
   "outputs": [],
   "source": [
    "\n",
    "lstm_model.compile(optimizer='adam', loss='sparse_categorical_crossentropy', metrics=['accuracy'])"
   ]
  },
  {
   "cell_type": "code",
   "execution_count": 20,
   "id": "af5c23f9",
   "metadata": {},
   "outputs": [
    {
     "name": "stdout",
     "output_type": "stream",
     "text": [
      "Epoch 1/5\n",
      "\u001b[1m20/20\u001b[0m \u001b[32m━━━━━━━━━━━━━━━━━━━━\u001b[0m\u001b[37m\u001b[0m \u001b[1m3s\u001b[0m 46ms/step - accuracy: 0.6268 - loss: 1.0334 - val_accuracy: 0.8000 - val_loss: 0.6654\n",
      "Epoch 2/5\n",
      "\u001b[1m20/20\u001b[0m \u001b[32m━━━━━━━━━━━━━━━━━━━━\u001b[0m\u001b[37m\u001b[0m \u001b[1m1s\u001b[0m 34ms/step - accuracy: 0.7420 - loss: 0.7883 - val_accuracy: 0.8000 - val_loss: 0.6288\n",
      "Epoch 3/5\n",
      "\u001b[1m20/20\u001b[0m \u001b[32m━━━━━━━━━━━━━━━━━━━━\u001b[0m\u001b[37m\u001b[0m \u001b[1m1s\u001b[0m 33ms/step - accuracy: 0.7702 - loss: 0.6836 - val_accuracy: 0.8000 - val_loss: 0.6323\n",
      "Epoch 4/5\n",
      "\u001b[1m20/20\u001b[0m \u001b[32m━━━━━━━━━━━━━━━━━━━━\u001b[0m\u001b[37m\u001b[0m \u001b[1m1s\u001b[0m 33ms/step - accuracy: 0.7370 - loss: 0.6478 - val_accuracy: 0.8000 - val_loss: 0.6020\n",
      "Epoch 5/5\n",
      "\u001b[1m20/20\u001b[0m \u001b[32m━━━━━━━━━━━━━━━━━━━━\u001b[0m\u001b[37m\u001b[0m \u001b[1m1s\u001b[0m 33ms/step - accuracy: 0.7920 - loss: 0.4693 - val_accuracy: 0.7563 - val_loss: 0.5983\n"
     ]
    }
   ],
   "source": [
    "\n",
    "# Train LSTM\n",
    "lstm_history = lstm_model.fit(X_train_pad, y_train_enc, epochs=5, batch_size=32, validation_split=0.2, verbose=1)"
   ]
  },
  {
   "cell_type": "code",
   "execution_count": 21,
   "id": "974314bc",
   "metadata": {},
   "outputs": [
    {
     "name": "stdout",
     "output_type": "stream",
     "text": [
      "\u001b[1m7/7\u001b[0m \u001b[32m━━━━━━━━━━━━━━━━━━━━\u001b[0m\u001b[37m\u001b[0m \u001b[1m0s\u001b[0m 36ms/step\n"
     ]
    }
   ],
   "source": [
    "# Evaluate LSTM\n",
    "lstm_pred = np.argmax(lstm_model.predict(X_test_pad), axis=1)\n",
    "lstm_accuracy = accuracy_score(y_test_enc, lstm_pred)\n",
    "lstm_precision, lstm_recall, lstm_f1, _ = precision_recall_fscore_support(y_test_enc, lstm_pred, average='weighted')"
   ]
  },
  {
   "cell_type": "code",
   "execution_count": 22,
   "id": "rnn_lstm_models",
   "metadata": {},
   "outputs": [
    {
     "name": "stdout",
     "output_type": "stream",
     "text": [
      "\n",
      "LSTM Results:\n",
      "Accuracy: 0.8100\n",
      "Precision: 0.7102\n",
      "Recall: 0.8100\n",
      "F1 Score: 0.7568\n"
     ]
    }
   ],
   "source": [
    "\n",
    "ml_results['LSTM'] = {\n",
    "    'predictions': le.inverse_transform(lstm_pred),\n",
    "    'accuracy': lstm_accuracy,\n",
    "    'precision': lstm_precision,\n",
    "    'recall': lstm_recall,\n",
    "    'f1': lstm_f1\n",
    "}\n",
    "\n",
    "print(\"\\nLSTM Results:\")\n",
    "print(f\"Accuracy: {lstm_accuracy:.4f}\")\n",
    "print(f\"Precision: {lstm_precision:.4f}\")\n",
    "print(f\"Recall: {lstm_recall:.4f}\")\n",
    "print(f\"F1 Score: {lstm_f1:.4f}\")"
   ]
  },
  {
   "cell_type": "code",
   "execution_count": 23,
   "id": "1524b041",
   "metadata": {},
   "outputs": [
    {
     "name": "stderr",
     "output_type": "stream",
     "text": [
      "[nltk_data] Downloading package vader_lexicon to\n",
      "[nltk_data]     C:\\Users\\mahmod\\AppData\\Roaming\\nltk_data...\n",
      "[nltk_data]   Package vader_lexicon is already up-to-date!\n"
     ]
    }
   ],
   "source": [
    "# VADER Sentiment Analysis\n",
    "nltk.download('vader_lexicon')\n",
    "sid = SentimentIntensityAnalyzer()\n",
    "\n",
    "def vader_sentiment(text):\n",
    "    scores = sid.polarity_scores(text)\n",
    "    if scores['compound'] >= 0.05:\n",
    "        return 'Positive'\n",
    "    elif scores['compound'] <= -0.05:\n",
    "        return 'Negative'\n",
    "    else:\n",
    "        return 'Neutral'"
   ]
  },
  {
   "cell_type": "code",
   "execution_count": 24,
   "id": "835d62e5",
   "metadata": {},
   "outputs": [
    {
     "name": "stdout",
     "output_type": "stream",
     "text": [
      "\n",
      "VADER Results:\n",
      "Accuracy: 0.8500\n",
      "Precision: 0.8218\n",
      "Recall: 0.8500\n",
      "F1 Score: 0.8329\n"
     ]
    }
   ],
   "source": [
    "vader_pred = [vader_sentiment(text) for text in X_test]\n",
    "vader_accuracy = accuracy_score(y_test, vader_pred)\n",
    "vader_precision, vader_recall, vader_f1, _ = precision_recall_fscore_support(y_test, vader_pred, average='weighted')\n",
    "\n",
    "ml_results['VADER'] = {\n",
    "    'predictions': vader_pred,\n",
    "    'accuracy': vader_accuracy,\n",
    "    'precision': vader_precision,\n",
    "    'recall': vader_recall,\n",
    "    'f1': vader_f1\n",
    "}\n",
    "print(\"\\nVADER Results:\")\n",
    "print(f\"Accuracy: {vader_accuracy:.4f}\")\n",
    "print(f\"Precision: {vader_precision:.4f}\")\n",
    "print(f\"Recall: {vader_recall:.4f}\")\n",
    "print(f\"F1 Score: {vader_f1:.4f}\")\n",
    "\n"
   ]
  },
  {
   "cell_type": "code",
   "execution_count": 25,
   "id": "d9f328bc",
   "metadata": {},
   "outputs": [
    {
     "data": {
      "application/vnd.jupyter.widget-view+json": {
       "model_id": "bfa7ecd644fb4005a416ef7e6dbe4e84",
       "version_major": 2,
       "version_minor": 0
      },
      "text/plain": [
       "config.json:   0%|          | 0.00/929 [00:00<?, ?B/s]"
      ]
     },
     "metadata": {},
     "output_type": "display_data"
    },
    {
     "data": {
      "application/vnd.jupyter.widget-view+json": {
       "model_id": "bdc3d1cd2b754c2aae05551e2101989d",
       "version_major": 2,
       "version_minor": 0
      },
      "text/plain": [
       "vocab.json:   0%|          | 0.00/899k [00:00<?, ?B/s]"
      ]
     },
     "metadata": {},
     "output_type": "display_data"
    },
    {
     "data": {
      "application/vnd.jupyter.widget-view+json": {
       "model_id": "daef2cbdf40c48d2b429de8f67222523",
       "version_major": 2,
       "version_minor": 0
      },
      "text/plain": [
       "merges.txt:   0%|          | 0.00/456k [00:00<?, ?B/s]"
      ]
     },
     "metadata": {},
     "output_type": "display_data"
    },
    {
     "data": {
      "application/vnd.jupyter.widget-view+json": {
       "model_id": "1fa6477b77ed4f63b7742fd81593f6ab",
       "version_major": 2,
       "version_minor": 0
      },
      "text/plain": [
       "special_tokens_map.json:   0%|          | 0.00/239 [00:00<?, ?B/s]"
      ]
     },
     "metadata": {},
     "output_type": "display_data"
    },
    {
     "name": "stdout",
     "output_type": "stream",
     "text": [
      "WARNING:tensorflow:From c:\\Users\\mahmod\\anaconda3\\envs\\base2\\lib\\site-packages\\tf_keras\\src\\losses.py:2976: The name tf.losses.sparse_softmax_cross_entropy is deprecated. Please use tf.compat.v1.losses.sparse_softmax_cross_entropy instead.\n",
      "\n"
     ]
    },
    {
     "name": "stderr",
     "output_type": "stream",
     "text": [
      "Xet Storage is enabled for this repo, but the 'hf_xet' package is not installed. Falling back to regular HTTP download. For better performance, install the package with: `pip install huggingface_hub[hf_xet]` or `pip install hf_xet`\n"
     ]
    },
    {
     "data": {
      "application/vnd.jupyter.widget-view+json": {
       "model_id": "5c0a9979307a4b109a5324876caf7973",
       "version_major": 2,
       "version_minor": 0
      },
      "text/plain": [
       "pytorch_model.bin:   0%|          | 0.00/501M [00:00<?, ?B/s]"
      ]
     },
     "metadata": {},
     "output_type": "display_data"
    },
    {
     "name": "stderr",
     "output_type": "stream",
     "text": [
      "Some weights of the model checkpoint at cardiffnlp/twitter-roberta-base-sentiment-latest were not used when initializing RobertaForSequenceClassification: ['roberta.pooler.dense.bias', 'roberta.pooler.dense.weight']\n",
      "- This IS expected if you are initializing RobertaForSequenceClassification from the checkpoint of a model trained on another task or with another architecture (e.g. initializing a BertForSequenceClassification model from a BertForPreTraining model).\n",
      "- This IS NOT expected if you are initializing RobertaForSequenceClassification from the checkpoint of a model that you expect to be exactly identical (initializing a BertForSequenceClassification model from a BertForSequenceClassification model).\n",
      "Device set to use cpu\n",
      "Device set to use cpu\n",
      "Xet Storage is enabled for this repo, but the 'hf_xet' package is not installed. Falling back to regular HTTP download. For better performance, install the package with: `pip install huggingface_hub[hf_xet]` or `pip install hf_xet`\n"
     ]
    }
   ],
   "source": [
    "# RoBERTa and DistilBERT\n",
    "# Initialize RoBERTa pipeline with a fine-tuned sentiment model\n",
    "roberta_model = \"cardiffnlp/twitter-roberta-base-sentiment-latest\"\n",
    "roberta_tokenizer = AutoTokenizer.from_pretrained(roberta_model)\n",
    "roberta_pipeline = pipeline(\"sentiment-analysis\", model=roberta_model, tokenizer=roberta_tokenizer, max_length=512, truncation=True)\n",
    "distilbert_model = \"distilbert-base-uncased-finetuned-sst-2-english\"\n",
    "distilbert_tokenizer = AutoTokenizer.from_pretrained(distilbert_model)\n",
    "distilbert_pipeline = pipeline(\"sentiment-analysis\", model=distilbert_model, tokenizer=distilbert_tokenizer, max_length=512, truncation=True)"
   ]
  },
  {
   "cell_type": "code",
   "execution_count": 26,
   "id": "1316b835",
   "metadata": {},
   "outputs": [],
   "source": [
    "\n",
    "def roberta_sentiment(text):\n",
    "    result = roberta_pipeline(text[:512])[0]\n",
    "    label = result['label']\n",
    "    if 'positive' in label.lower():\n",
    "        return 'Positive'\n",
    "    elif 'negative' in label.lower():\n",
    "        return 'Negative'\n",
    "    else:\n",
    "        return 'Neutral'"
   ]
  },
  {
   "cell_type": "code",
   "execution_count": 27,
   "id": "3bb11ae9",
   "metadata": {},
   "outputs": [],
   "source": [
    "def distilbert_sentiment(text):\n",
    "    result = distilbert_pipeline(text[:512])[0] # diStilbert max tokenize is 512 \n",
    "    return 'Positive' if result['label'] == 'POSITIVE' else 'Negative'\n",
    "\n"
   ]
  },
  {
   "cell_type": "code",
   "execution_count": 28,
   "id": "6023c25a",
   "metadata": {},
   "outputs": [
    {
     "data": {
      "application/vnd.jupyter.widget-view+json": {
       "model_id": "9d15b7fff96342499f5e0960cb8a6115",
       "version_major": 2,
       "version_minor": 0
      },
      "text/plain": [
       "model.safetensors:   0%|          | 0.00/501M [00:00<?, ?B/s]"
      ]
     },
     "metadata": {},
     "output_type": "display_data"
    }
   ],
   "source": [
    "roberta_pred = df['Text'].apply(roberta_sentiment)\n",
    "distilbert_pred = df['Text'].apply(distilbert_sentiment)"
   ]
  },
  {
   "cell_type": "code",
   "execution_count": 29,
   "id": "752223a3",
   "metadata": {},
   "outputs": [
    {
     "name": "stdout",
     "output_type": "stream",
     "text": [
      "\n",
      "RoBERTa Results :\n",
      "Accuracy: 0.8450\n",
      "Precision: 0.8794\n",
      "Recall: 0.8450\n",
      "F1 Score: 0.8605\n"
     ]
    }
   ],
   "source": [
    "import pandas as pd\n",
    "import numpy as np\n",
    "from transformers import pipeline, AutoTokenizer\n",
    "from sklearn.metrics import accuracy_score, precision_recall_fscore_support\n",
    "import re\n",
    "\n",
    "# Text preprocessing function\n",
    "def preprocess_text(text):\n",
    "    # Remove URLs, HTML tags, and special characters\n",
    "    text = re.sub(r'http\\S+|www\\S+|https\\S+', '', text, flags=re.MULTILINE)\n",
    "    text = re.sub(r'<[^>]+>', '', text)\n",
    "    text = re.sub(r'[^\\w\\s]', '', text)\n",
    "    return text.strip()\n",
    "\n",
    "# RoBERTa sentiment prediction function\n",
    "def roberta_sentiment(text):\n",
    "    # Preprocess text\n",
    "    cleaned_text = preprocess_text(text)\n",
    "    if not cleaned_text:\n",
    "        return 'Neutral'  # Default for empty text\n",
    "    # Get prediction\n",
    "    result = roberta_pipeline(cleaned_text)\n",
    "    label = result[0]['label'].lower()\n",
    "    # Map RoBERTa labels to dataset labels\n",
    "    label_mapping = {\n",
    "        'positive': 'Positive',\n",
    "        'neutral': 'Neutral',\n",
    "        'negative': 'Negative'\n",
    "    }\n",
    "    return label_mapping.get(label, 'Neutral')  # Default to Neutral if label is unexpected\n",
    "\n",
    "# Evaluate RoBERTa on the test set\n",
    "roberta_pred = [roberta_sentiment(text) for text in X_test]\n",
    "roberta_accuracy = accuracy_score(y_test, roberta_pred)\n",
    "roberta_precision, roberta_recall, roberta_f1, _ = precision_recall_fscore_support(y_test, roberta_pred, average='weighted')\n",
    "\n",
    "# Update ml_results\n",
    "ml_results['RoBERTa'] = {\n",
    "    'predictions': roberta_pred,\n",
    "    'accuracy': roberta_accuracy,\n",
    "    'precision': roberta_precision,\n",
    "    'recall': roberta_recall,\n",
    "    'f1': roberta_f1\n",
    "}\n",
    "\n",
    "# Print results\n",
    "print(\"\\nRoBERTa Results :\")\n",
    "print(f\"Accuracy: {roberta_accuracy:.4f}\")\n",
    "print(f\"Precision: {roberta_precision:.4f}\")\n",
    "print(f\"Recall: {roberta_recall:.4f}\")\n",
    "print(f\"F1 Score: {roberta_f1:.4f}\")\n",
    "\n"
   ]
  },
  {
   "cell_type": "code",
   "execution_count": 30,
   "id": "vader_roberta_distilbert",
   "metadata": {},
   "outputs": [
    {
     "name": "stdout",
     "output_type": "stream",
     "text": [
      "\n",
      "DistilBERT Results :\n",
      "Accuracy: 0.7050\n",
      "Precision: 0.8173\n",
      "Recall: 0.7050\n",
      "F1 Score: 0.7303\n"
     ]
    }
   ],
   "source": [
    "\n",
    "\n",
    "\n",
    "# Text preprocessing function\n",
    "def preprocess_text(text):\n",
    "    text = re.sub(r'http\\S+|www\\S+|https\\S+', '', text, flags=re.MULTILINE)\n",
    "    text = re.sub(r'<[^>]+>', '', text)\n",
    "    text = re.sub(r'[^\\w\\s]', '', text)\n",
    "    return text.strip()\n",
    "\n",
    "# DistilBERT sentiment prediction function\n",
    "def distilbert_sentiment(text):\n",
    "    cleaned_text = preprocess_text(text)\n",
    "    if not cleaned_text:\n",
    "        return 'Neutral'\n",
    "    result = distilbert_pipeline(cleaned_text)\n",
    "    label = result[0]['label'].lower()\n",
    "    label_mapping = {\n",
    "        'positive': 'Positive',\n",
    "        'negative': 'Negative',\n",
    "        'neutral': 'Neutral'\n",
    "    }\n",
    "    return label_mapping.get(label, 'Negative')\n",
    "\n",
    "# Evaluate DistilBERT on the test set\n",
    "distilbert_pred = [distilbert_sentiment(text) for text in X_test]\n",
    "distilbert_accuracy = accuracy_score(y_test, distilbert_pred)\n",
    "distilbert_precision, distilbert_recall, distilbert_f1, _ = precision_recall_fscore_support(y_test, distilbert_pred, average='weighted')\n",
    "\n",
    "# Update ml_results\n",
    "ml_results['DistilBERT'] = {\n",
    "    'predictions': distilbert_pred,\n",
    "    'accuracy': distilbert_accuracy,\n",
    "    'precision': distilbert_precision,\n",
    "    'recall': distilbert_recall,\n",
    "    'f1': distilbert_f1\n",
    "}\n",
    "\n",
    "# Print results\n",
    "print(\"\\nDistilBERT Results :\")\n",
    "print(f\"Accuracy: {distilbert_accuracy:.4f}\")\n",
    "print(f\"Precision: {distilbert_precision:.4f}\")\n",
    "print(f\"Recall: {distilbert_recall:.4f}\")\n",
    "print(f\"F1 Score: {distilbert_f1:.4f}\")\n",
    "\n"
   ]
  },
  {
   "cell_type": "code",
   "execution_count": 31,
   "id": "45699b1b",
   "metadata": {},
   "outputs": [
    {
     "name": "stdout",
     "output_type": "stream",
     "text": [
      "Logistic Regression structure: ['train_metrics', 'test_metrics']\n",
      "Logistic Regression test_metrics: ['accuracy', 'precision', 'recall', 'f1', 'predictions']\n",
      "SVM structure: ['train_metrics', 'test_metrics']\n",
      "SVM test_metrics: ['accuracy', 'precision', 'recall', 'f1', 'predictions']\n",
      "Random Forest structure: ['train_metrics', 'test_metrics']\n",
      "Random Forest test_metrics: ['accuracy', 'precision', 'recall', 'f1', 'predictions']\n",
      "Logistic Regression - y_true unique values: ['Negative' 'Neutral' 'Positive']\n",
      "Logistic Regression - y_pred unique values: ['Positive']\n",
      "SVM - y_true unique values: ['Negative' 'Neutral' 'Positive']\n",
      "SVM - y_pred unique values: ['Positive']\n",
      "Random Forest - y_true unique values: ['Negative' 'Neutral' 'Positive']\n",
      "Random Forest - y_pred unique values: ['Positive']\n"
     ]
    },
    {
     "data": {
      "image/png": "[encoded data removed]",
      "text/plain": [
       "<Figure size 1500x500 with 6 Axes>"
      ]
     },
     "metadata": {},
     "output_type": "display_data"
    }
   ],
   "source": [
    "import matplotlib.pyplot as plt\n",
    "import seaborn as sns\n",
    "from sklearn.metrics import confusion_matrix\n",
    "import numpy as np\n",
    "\n",
    "# Define class labels\n",
    "class_labels = ['Negative', 'Neutral', 'Positive']\n",
    "\n",
    "# Selected models (traditional ML models)\n",
    "selected_models = ['Logistic Regression', 'SVM', 'Random Forest']\n",
    "\n",
    "# Debugging: Print the structure of ml_results for each model\n",
    "for model_name in selected_models:\n",
    "    print(f\"{model_name} structure: {list(ml_results[model_name].keys())}\")\n",
    "    if 'test_metrics' in ml_results[model_name]:\n",
    "        print(f\"{model_name} test_metrics: {list(ml_results[model_name]['test_metrics'].keys())}\")\n",
    "\n",
    "# Plot confusion matrices for selected models\n",
    "plt.figure(figsize=(15, 5))\n",
    "for i, model_name in enumerate(selected_models, 1):\n",
    "    # Get true labels\n",
    "    y_true = y_test\n",
    "    \n",
    "    # Get predictions from test_metrics\n",
    "    if 'test_metrics' in ml_results[model_name] and 'predictions' in ml_results[model_name]['test_metrics']:\n",
    "        y_pred = ml_results[model_name]['test_metrics']['predictions']\n",
    "    else:\n",
    "        print(f\"Warning: No predictions found for {model_name}. Skipping.\")\n",
    "        continue\n",
    "    \n",
    "    # Debugging: Print unique values in y_true and y_pred\n",
    "    print(f\"{model_name} - y_true unique values: {np.unique(y_true)}\")\n",
    "    print(f\"{model_name} - y_pred unique values: {np.unique(y_pred)}\")\n",
    "    \n",
    "    # Compute confusion matrix\n",
    "    cm = confusion_matrix(y_true, y_pred, labels=class_labels)\n",
    "    \n",
    "    # Plot confusion matrix\n",
    "    plt.subplot(1, 3, i)\n",
    "    sns.heatmap(cm, annot=True, fmt='d', cmap='Blues', xticklabels=class_labels, yticklabels=class_labels)\n",
    "    plt.title(f'Confusion Matrix - {model_name}')\n",
    "    plt.xlabel('Predicted')\n",
    "    plt.ylabel('True')\n",
    "\n",
    "plt.tight_layout()\n",
    "plt.show()"
   ]
  },
  {
   "cell_type": "code",
   "execution_count": 32,
   "id": "6fcb9718",
   "metadata": {},
   "outputs": [
    {
     "data": {
      "image/png": "[encoded data removed]",
      "text/plain": [
       "<Figure size 2500x500 with 10 Axes>"
      ]
     },
     "metadata": {},
     "output_type": "display_data"
    }
   ],
   "source": [
    "import matplotlib.pyplot as plt\n",
    "import seaborn as sns\n",
    "from sklearn.metrics import confusion_matrix\n",
    "import numpy as np\n",
    "\n",
    "# Define class labels\n",
    "class_labels = ['Negative', 'Neutral', 'Positive']\n",
    "\n",
    "# Selected models\n",
    "selected_models = ['RNN', 'LSTM', 'VADER', 'RoBERTa', 'DistilBERT']\n",
    "\n",
    "# Plot confusion matrices for selected models\n",
    "plt.figure(figsize=(25, 5))\n",
    "for i, model_name in enumerate(selected_models, 1):\n",
    "    # Get true labels and predictions\n",
    "    y_true = le.inverse_transform(y_test_enc) if model_name in ['RNN', 'LSTM'] else y_test\n",
    "    y_pred = ml_results[model_name]['predictions']\n",
    "    \n",
    "    # Compute confusion matrix\n",
    "    cm = confusion_matrix(y_true, y_pred, labels=class_labels)\n",
    "    \n",
    "    # Plot confusion matrix\n",
    "    plt.subplot(1, 5, i)\n",
    "    sns.heatmap(cm, annot=True, fmt='d', cmap='Blues', xticklabels=class_labels, yticklabels=class_labels)\n",
    "    plt.title(f'Confusion Matrix - {model_name}')\n",
    "    plt.xlabel('Predicted')\n",
    "    plt.ylabel('True')\n",
    "\n",
    "plt.tight_layout()\n",
    "plt.show()"
   ]
  },
  {
   "cell_type": "code",
   "execution_count": 33,
   "id": "results_analysis",
   "metadata": {},
   "outputs": [
    {
     "name": "stdout",
     "output_type": "stream",
     "text": [
      "\n",
      "Highest RoBERTa positive score for Score=1:\n",
      "I once loved these chips and they were the only chips i would buy.  I discovered them when I was in England back in 2000 and quickly became a fan.  About a year ago I picked up a bag that was on sale at my local supermarket.  I was finding it odd that they were on sale so much but took advantage of it.  After opening the bag I found the chips were not even close to the Kettle chips I was used to.  They were all uniform whitish yellow in color, flavor was way off, the lovely extra crisp brown chips were gone completely and I was very disappointed.  So I e-mailed Kettle with the following:  \"What Happened? I bought this bag of chips the other day and they have a very different taste; It tastes \"cheaper\". I don't know how else to put it... I also noticed that the chips seemed to be less cooked as I did not see any of the browner colored chips that have the most flavor. I am hoping that nothing has changed with the ingredients or process used to produce this product. Did I just get a weird batch? I have been buying only Kettle Chips for about 10 years now so I am wondering.\"  I did receive a reply: \"Thanks for letting us know about your experience with your Kettle Brand® Chips. It sounds like you may have received a bag that should not have slipped by our inspections, and we apologize.Our potatoes do vary seasonally which could account for a variation in color-but our chips should still taste great!Thanks for providing us with the \"best before\" code from the bag.  This really helps when passing on your comments to our staff.<br />We are sending some coupons to replace your purchase with any of our Kettle Brand® flavors or nut butters, believing you will have a great experience with your next purchase! In case you buy this product again, we suggest avoiding the same best before date (if you still have it) in the rare instance another bag from the same case slipped by our inspections at the same time.<br />Thanks again for letting us know about this and expect the coupons to arrive within 3 weeks.  Please let me know if I can be of any more help.\"  Well the next bag was good.  Since that time I have picked up 3 bags of chips all were like the \"bad\" bag so I am pretty sure that they have changed there product to reduce cost.  I did some research and found out that Kettle was bought out by a private equity company.  So the same cookie cutter management processes are probably being employed at Kettle.  Acquire company with high quality brand recognition, sell product to mass merchants, lower quality/cost of product to increase margin and finally sell company just before the customer base starts to realize that the brand is no longer a quality brand.  increased profits make the company more valuable on paper so they make a nice profit for the investors. Customer and employees lose out of course as does an unsuspecting buyer of the exploited brand.  Stay away from Kettle chips they are no longer the same...\n",
      "\n",
      "Highest VADER positive score for Score=1:\n",
      "This item, WERTHER'S SUGAR FREE HARD CANDY, if consumed, will give you - or your friends, loose bowels. I purchased 12 bags and discovered more than a bowel problem: You can't return them. Need a laxative? I have ten unopened bags you can have - for free.\n",
      "\n",
      "Highest RoBERTa negative score for Score=5:\n",
      "This is my favorite hot sauce! I liketo use it to give anything some extra flavor. I have loved going out to some of my favorite resturants in town and seeing that they are offering this great product.I really enjoy putting on my my breakfast burritos!\n",
      "\n",
      "VADER Test Cases:\n",
      "Text: I love sentiment analysis!\n",
      "Predicted Sentiment: Positive\n",
      "Text: Make sure to like and subscribe!\n",
      "Predicted Sentiment: Positive\n",
      "\n",
      "RoBERTa Test Cases:\n",
      "Text: I love sentiment analysis!\n",
      "Predicted Sentiment: Positive\n",
      "Text: Make sure to like and subscribe!\n",
      "Predicted Sentiment: Positive\n",
      "\n",
      "DistilBERT Test Cases:\n",
      "Text: I love sentiment analysis!\n",
      "Predicted Sentiment: Positive\n",
      "Text: Make sure to like and subscribe!\n",
      "Predicted Sentiment: Positive\n",
      "\n",
      "RNN Test Cases:\n",
      "Text: I love sentiment analysis!\n",
      "Predicted Sentiment: Positive\n",
      "Text: Make sure to like and subscribe!\n",
      "Predicted Sentiment: Positive\n",
      "\n",
      "LSTM Test Cases:\n",
      "Text: I love sentiment analysis!\n",
      "Predicted Sentiment: Positive\n",
      "Text: Make sure to like and subscribe!\n",
      "Predicted Sentiment: Positive\n"
     ]
    }
   ],
   "source": [
    "import pandas as pd\n",
    "import numpy as np\n",
    "from tensorflow.keras.preprocessing.sequence import pad_sequences\n",
    "\n",
    "# Save results\n",
    "results_df = pd.DataFrame({'Text': X_test, 'True_Sentiment': y_test})\n",
    "results_df['Score'] = df.loc[X_test.index, 'Score']  # إضافة عمود Score\n",
    "results_df['vader_pred'] = vader_pred\n",
    "results_df['roberta_pred'] = roberta_pred\n",
    "results_df['distilbert_pred'] = distilbert_pred\n",
    "results_df['vader_pos'] = results_df['Text'].apply(lambda x: sid.polarity_scores(x)['pos'])\n",
    "results_df['roberta_pos'] = results_df['Text'].apply(lambda x: roberta_pipeline(x[:512])[0]['score'] if 'positive' in roberta_pipeline(x[:512])[0]['label'].lower() else 0)\n",
    "results_df.to_csv('sentiment_analysis_results.csv', index=False)\n",
    "\n",
    "# Print example misclassifications\n",
    "print(\"\\nHighest RoBERTa positive score for Score=1:\")\n",
    "print(results_df.query('Score == 1').sort_values('roberta_pos', ascending=False)['Text'].values[0])\n",
    "\n",
    "print(\"\\nHighest VADER positive score for Score=1:\")\n",
    "print(results_df.query('Score == 1').sort_values('vader_pos', ascending=False)['Text'].values[0])\n",
    "\n",
    "print(\"\\nHighest RoBERTa negative score for Score=5:\")\n",
    "print(results_df.query('Score == 5').sort_values('roberta_pos', ascending=False)['Text'].values[0])\n",
    "\n",
    "# Test cases\n",
    "test_texts = [\n",
    "    'I love sentiment analysis!',\n",
    "    'Make sure to like and subscribe!',\n",
    "]\n",
    "\n",
    "# Prepare data for RNN and LSTM\n",
    "test_seq = tokenizer.texts_to_sequences(test_texts)\n",
    "test_pad = pad_sequences(test_seq, maxlen=max_len)\n",
    "\n",
    "\n",
    "\n",
    "print(\"\\nVADER Test Cases:\")\n",
    "for text in test_texts:\n",
    "    print(f\"Text: {text}\")\n",
    "    print(f\"Predicted Sentiment: {vader_sentiment(text)}\")\n",
    "\n",
    "print(\"\\nRoBERTa Test Cases:\")\n",
    "for text in test_texts:\n",
    "    print(f\"Text: {text}\")\n",
    "    print(f\"Predicted Sentiment: {roberta_sentiment(text)}\")\n",
    "\n",
    "print(\"\\nDistilBERT Test Cases:\")\n",
    "for text in test_texts:\n",
    "    print(f\"Text: {text}\")\n",
    "    print(f\"Predicted Sentiment: {distilbert_sentiment(text)}\")\n",
    "\n",
    "print(\"\\nRNN Test Cases:\")\n",
    "rnn_predictions = np.argmax(rnn_model.predict(test_pad, verbose=0), axis=1)\n",
    "rnn_labels = le.inverse_transform(rnn_predictions)\n",
    "for text, label in zip(test_texts, rnn_labels):\n",
    "    print(f\"Text: {text}\")\n",
    "    print(f\"Predicted Sentiment: {label}\")\n",
    "\n",
    "print(\"\\nLSTM Test Cases:\")\n",
    "lstm_predictions = np.argmax(lstm_model.predict(test_pad, verbose=0), axis=1)\n",
    "lstm_labels = le.inverse_transform(lstm_predictions)\n",
    "for text, label in zip(test_texts, lstm_labels):\n",
    "    print(f\"Text: {text}\")\n",
    "    print(f\"Predicted Sentiment: {label}\")"
   ]
  },
  {
   "cell_type": "code",
   "execution_count": 34,
   "id": "b94d2a82",
   "metadata": {},
   "outputs": [
    {
     "name": "stdout",
     "output_type": "stream",
     "text": [
      "Model Performance Comparison:\n",
      "              Model  Accuracy  Precision  Recall  F1 Score\n",
      "Logistic Regression     0.820   0.672400   0.820  0.738901\n",
      "                SVM     0.820   0.672400   0.820  0.738901\n",
      "      Random Forest     0.820   0.672400   0.820  0.738901\n",
      "                RNN     0.760   0.694764   0.760  0.725335\n",
      "               LSTM     0.810   0.710220   0.810  0.756834\n",
      "              VADER     0.850   0.821755   0.850  0.832876\n",
      "            RoBERTa     0.845   0.879374   0.845  0.860459\n",
      "         DistilBERT     0.705   0.817307   0.705  0.730294\n"
     ]
    },
    {
     "data": {
      "image/png": "[encoded data removed]",
      "text/plain": [
       "<Figure size 1200x800 with 1 Axes>"
      ]
     },
     "metadata": {},
     "output_type": "display_data"
    }
   ],
   "source": [
    "import pandas as pd\n",
    "import matplotlib.pyplot as plt\n",
    "import seaborn as sns\n",
    "\n",
    "# Compile model results into a DataFrame\n",
    "model_names = list(ml_results.keys())\n",
    "metrics = ['Accuracy', 'Precision', 'Recall', 'F1 Score']\n",
    "comparison_data = []\n",
    "\n",
    "for model in model_names:\n",
    "    # Check if the model has nested 'test_metrics' (for traditional ML models)\n",
    "    if 'test_metrics' in ml_results[model]:\n",
    "        metrics_dict = {\n",
    "            'Model': model,\n",
    "            'Accuracy': ml_results[model]['test_metrics']['accuracy'],\n",
    "            'Precision': ml_results[model]['test_metrics']['precision'],\n",
    "            'Recall': ml_results[model]['test_metrics']['recall'],\n",
    "            'F1 Score': ml_results[model]['test_metrics']['f1']\n",
    "        }\n",
    "    else:\n",
    "        # For RNN, LSTM, VADER, RoBERTa, DistilBERT with flat structure\n",
    "        metrics_dict = {\n",
    "            'Model': model,\n",
    "            'Accuracy': ml_results[model]['accuracy'],\n",
    "            'Precision': ml_results[model]['precision'],\n",
    "            'Recall': ml_results[model]['recall'],\n",
    "            'F1 Score': ml_results[model]['f1']\n",
    "        }\n",
    "    comparison_data.append(metrics_dict)\n",
    "\n",
    "# Create DataFrame\n",
    "comparison_df = pd.DataFrame(comparison_data)\n",
    "\n",
    "# Display the comparison table\n",
    "print(\"Model Performance Comparison:\")\n",
    "print(comparison_df.to_string(index=False))\n",
    "\n",
    "# Plot the comparison\n",
    "plt.figure(figsize=(12, 8))\n",
    "comparison_df_melted = comparison_df.melt(id_vars='Model', \n",
    "                                        value_vars=['Accuracy', 'Precision', 'Recall', 'F1 Score'],\n",
    "                                        var_name='Metric', value_name='Score')\n",
    "\n",
    "sns.barplot(x='Model', y='Score', hue='Metric', data=comparison_df_melted)\n",
    "plt.title('Model Performance Comparison Across Metrics')\n",
    "plt.xticks(rotation=45)\n",
    "plt.ylim(0, 1)\n",
    "plt.legend(loc='best')\n",
    "plt.tight_layout()\n",
    "\n",
    "plt.show()"
   ]
  },
  {
   "cell_type": "code",
   "execution_count": null,
   "id": "fbe7e9e2",
   "metadata": {},
   "outputs": [],
   "source": []
  }
 ],
 "metadata": {
  "kernelspec": {
   "display_name": "base2",
   "language": "python",
   "name": "python3"
  },
  "language_info": {
   "codemirror_mode": {
    "name": "ipython",
    "version": 3
   },
   "file_extension": ".py",
   "mimetype": "text/x-python",
   "name": "python",
   "nbconvert_exporter": "python",
   "pygments_lexer": "ipython3",
   "version": "3.10.16"
  }
 },
 "nbformat": 4,
 "nbformat_minor": 5
}
